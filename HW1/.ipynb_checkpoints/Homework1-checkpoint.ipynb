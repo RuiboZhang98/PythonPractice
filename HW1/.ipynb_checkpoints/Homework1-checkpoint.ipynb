{
 "cells": [
  {
   "cell_type": "markdown",
   "metadata": {},
   "source": [
    "#### 1 R/Python computing"
   ]
  },
  {
   "cell_type": "code",
   "execution_count": 2,
   "metadata": {},
   "outputs": [
    {
     "data": {
      "text/plain": [
       "Text(0, 0.5, 'y')"
      ]
     },
     "execution_count": 2,
     "metadata": {},
     "output_type": "execute_result"
    },
    {
     "data": {
      "image/png": "[encoded data removed]",
      "text/plain": [
       "<Figure size 640x480 with 1 Axes>"
      ]
     },
     "metadata": {},
     "output_type": "display_data"
    }
   ],
   "source": [
    "# import standard statistical computing packages\n",
    "import numpy as np\n",
    "import statsmodels.api as sm\n",
    "import matplotlib.pyplot as plt\n",
    "\n",
    "# (a) generate samples\n",
    "X = np.random.normal(0, 1, 100)\n",
    "eps = np.random.normal(0, 1, 100)\n",
    "Y = 10 + 5 * X + eps \n",
    "\n",
    "# (b) fit a linear regression model \n",
    "X_aug = sm.add_constant(X)\n",
    "ols = sm.OLS(Y,X_aug)\n",
    "Y_predict = ols.fit().predict()\n",
    "\n",
    "\n",
    "# (c) plot\n",
    "plt.scatter(X, Y)\n",
    "plt.plot(X, Y_predict, color = 'red')\n",
    "plt.xlabel(\"x\")\n",
    "plt.ylabel(\"y\")"
   ]
  },
  {
   "cell_type": "markdown",
   "metadata": {},
   "source": [
    "#### 2 Probability spaces\n",
    "(a) Consider an experiment in which we roll a fair six-sided die. Define the sample space $\\Omega$, the\n",
    "event space $S$ and the probability measure $\\mathbb{P}: S \\to R$ of the experiment.\n",
    "\n",
    "Solution:\n",
    " - Sample space: $\\Omega = \\{1,2,3,4,5,6\\}$.\n",
    " - Event space: $S = \\mathcal{P}(\\Omega) \\equiv 2^{\\Omega} := \\{\\text{all possible subsets of } \\Omega\\} = $.\n",
    " - Probability measure: Since the die is fair, we have that\n",
    "$$\\forall A \\in S, (\\text{ or } A \\subset \\Omega), \\mathbb{P}(A) = \\frac{|A|}{6}$$\n",
    "where $|\\cdot|$ denotes the (cardinality) number of elements in the set $A$.\n",
    "\n",
    "(b) Suppose a researcher randomly picks one individual out of a population of 1000 people. In\n",
    "this population, 200 are Republicans, 400 are Democrats, and the remainder are Independents.\n",
    "After picking someone at random, the researcher records the Party ID of the person. Define\n",
    "the sample space $\\Omega$, the event space $S$ and the probability measure $\\mathbb{P}: S \\to R$ of this random\n",
    "generative process.\n",
    "\n",
    "Solution:\n",
    " - Sample space: $\\Omega = \\{R(\\text{Republican}), D(\\text{Democrat}), I(\\text{Independent})\\}$.\n",
    " - Event space: $S = \\{\\emptyset, \\{R\\}, \\{D\\}, \\{I\\}, \\{R,D\\}, \\{R,I\\}, \\{D,I\\}, \\Omega, \\}$.\n",
    " - Probability measure: Assume all people are picked without a bias, we have that\n",
    "$$\n",
    "\\begin{align*}\n",
    "\\mathbb{P}(\\emptyset) = 0, \\, \\mathbb{P}(\\{R\\}) = 0.2, \\,\\mathbb{P}(\\{D\\}) = 0.4, \\, \\mathbb{P}(\\{I\\}) = 0.4 \\\\\n",
    "\\mathbb{P}(\\{R,D\\}) = 0.6, \\, \\mathbb{P}(\\{R,I\\}) = 0.6, \\, \\mathbb{P}(\\{D,I\\}) = 0.8, \\,\\mathbb{P}(\\Omega) = 1.\n",
    "\\end{align*}\n",
    "$$\n",
    "\n",
    "If one wishes to model on the individual level, then we need\n",
    "- Sample space: $\\Omega = \\{R_1,R_2,\\dots,R_{200}, D_1, D_2,\\cdots, D_{400}, I_1, \\dots, I_{400}\\}$.\n",
    " - Event space: $S = 2^{\\Omega}$.\n",
    " - Probability measure: $\\forall A \\subset \\Omega, \\mathbb{P}(A) = |A|/1000$."
   ]
  },
  {
   "cell_type": "markdown",
   "metadata": {},
   "source": [
    "#### 3 Univarite random variables\n",
    "These are review questions of basic probability theory. For all questions bellow (except (e)), consider\n",
    "a continuous random variable $X$ and scalars $a$ and $b$. **Note that** PDF and PMF are denoted by $p(x)$ depended on the context. We will always use the space $(\\Omega,S,\\mathbb{P})$.\n",
    "\n",
    "\n",
    "3.1\n",
    "\n",
    "\n",
    "(a) Expected value is defined to be \n",
    "    $$\\mathbb{E}[X] := \\int_{\\Omega} X(\\omega) \\mathbb{P}({\\rm d}\\omega) = \\int_{-\\infty}^{+\\infty} x p(x) {\\rm d}x.$$\n",
    "(b) Variance is defined to be \n",
    "    $${\\rm Var}[X] := \\mathbb{E}\\left[(X - \\mathbb{E}[X])^2\\right]$$\n",
    "(c) We have\n",
    "$$\n",
    "\\begin{align*}\n",
    "    {\\rm Var}[X] & := \\mathbb{E}\\left[(X - \\mathbb{E}[X])^2\\right] \\\\\n",
    "    & = \\mathbb{E}\\left[X^2 - 2 X \\mathbb{E}[X] + \\mathbb{E}[X]^2\\right] \\\\\n",
    "    (\\text{linearity of expectation}) & = \\mathbb{E}[X^2] - 2 \\mathbb{E}[X]^2 + \\mathbb{E}[X]^2 \\\\\n",
    "    & = \\mathbb{E}[X^2] - \\mathbb{E}[X]^2.\n",
    "\\end{align*}\n",
    "$$\n",
    "(d) The standard deviation is the square root of the variance\n",
    "    $$\\text{SD}[X] = \\sqrt{{\\rm Var}[X]}$$\n",
    "(e) For a discrete random variable $X$, we have\n",
    "$$\n",
    "\\begin{align*}\n",
    "    \\mathbb{E}[g(X)] & := \\int_{\\Omega} g(X(\\omega)) \\mathbb{P}({\\rm d}\\omega) \\\\\n",
    "    & = \\sum_{x} \\left(\\int_{\\Omega} g(X(\\omega)) 1(X(\\omega) = x) \\mathbb{P}({\\rm d}\\omega)\\right) \\\\\n",
    "    & = \\sum_{x} \\left( g(x) \\int_{\\Omega} 1(X(\\omega) = x) \\mathbb{P}({\\rm d}\\omega) \\right) \\\\\n",
    "    & = \\sum_{x} g(x) \\mathbb{P}(X = x) \\\\\n",
    "    & = \\sum_{x} g(x) p(x)\n",
    "\\end{align*}\n",
    "$$\n",
    "(f) Observe that \n",
    "$$\n",
    "\\begin{align*}\n",
    "    \\mathbb{E}[a + b X] & := \\int_{\\Omega} a + b X(\\omega) \\mathbb{P}({\\rm d}\\omega) \\\\\n",
    "    (\\text{linearity of integration}) & = a + b \\int_{\\Omega} X(\\omega) \\mathbb{P}({\\rm d}\\omega) \\\\\n",
    "    & = a + b \\mathbb{E}[X].\n",
    "\\end{align*}\n",
    "$$\n",
    "(g) Obersve that \n",
    "\\begin{align*}\n",
    "    {\\rm Var}[a + bX] & = \\mathbb{E}\\left[(a + b X - \\mathbb{E}[a + bX])^2\\right] \\\\\n",
    "    & = \\mathbb{E}\\left[b^2 (X - \\mathbb{E}[X])^2\\right] \\\\\n",
    "    & = b^2 {\\rm Var}[X].\n",
    "\\end{align*}\n",
    "(h) Note that \n",
    "$$\\text{SD}[a + bX] = \\sqrt{{\\rm Var}[a + bX]} = \\sqrt{b{\\rm Var}[X]} = |b|\\text{SD}[X] $$"
   ]
  },
  {
   "cell_type": "markdown",
   "metadata": {},
   "source": [
    "3.2\n",
    "\n",
    "\n",
    "Markov's inequality states that for any non-negative random variable $X$ and $t > 0$, we have that \n",
    "$$\n",
    "\\mathbb{P}(X \\geq t) \\leq \\frac{\\mathbb{E}[X]}{t}.\n",
    "$$\n",
    "Proof: For fix $t > 0$, we observe that \n",
    "$$\n",
    "x = x 1(x \\geq t) + x 1(x < t).\n",
    "$$\n",
    "Thus, it follows that \n",
    "$$\n",
    "\\begin{align*}\n",
    "\\mathbb{E}[X] & = \\mathbb{E}[X] 1(x \\geq t) + \\mathbb{E}[X] 1(x < t)\\\\\n",
    "              & \\geq \\mathbb{E}[t] 1(x \\geq t) = t \\mathbb{P}(X \\geq t).\n",
    "\\end{align*}\n",
    "$$\n",
    "Dividing both sides by $t$, we complete the proof.\n",
    "\n",
    "\n",
    "Cheybshev's inequality states that: For a random variable $X$ with mean $\\mu$ and variance $\\sigma^2$, for any $t >0$, we have that \n",
    "$$\n",
    "\\mathbb{P}(|X - \\mu| \\geq t) \\leq \\frac{\\sigma^2}{t^2}\n",
    "$$\n",
    "The proof simply follows the Markov's inequality. By taking $(X - \\mu)^2$ in the Markov's inequality, we get that \n",
    "$$\n",
    "    \\mathbb{P}((X - \\mu)^2 \\geq t^2) \\leq \\frac{\\sigma^2}{t^2}\n",
    "    \\Rightarrow \\mathbb{P}(|X - \\mu| \\geq t) \\leq \\frac{\\sigma^2}{t^2}.\n",
    "$$\n"
   ]
  },
  {
   "cell_type": "markdown",
   "metadata": {},
   "source": [
    "3.4 Hypothetic snow probabilities"
   ]
  },
  {
   "cell_type": "markdown",
   "metadata": {},
   "source": [
    "### 4 Best predictors (univariate)\n",
    "Consider a random variable $X$ and a predictor $c$ for $X$.\n",
    "\n",
    "#### (a) \n",
    "We have \n",
    "$$\n",
    "\\begin{align*}\n",
    "    \\mathbb{E}[(X - c)^2] & = \\mathbb{E}[X^2] - 2 c \\mathbb{E}[X] + c^2 \\\\\n",
    "    & = {\\rm Var}[X] + \\mathbb{E}[X]^2 - 2 c \\mathbb{E}[X] + c^2 \\\\\n",
    "    & = {\\rm Var}[X] + (\\mathbb{E}[X] - c)^2.\n",
    "\\end{align*}\n",
    "$$\n",
    "#### (b) \n",
    "We have\n",
    "$$ \\mathbb{E}[(X - c)^2] = {\\rm Var}[X] + (\\mathbb{E}[X] - c)^2 \\geq {\\rm Var}[X].$$\n",
    "Bascially, we cannot control the variance of $X$ in the MSE. What we can optimize is the $(\\mathbb{E}[X] - c)^2$ term. The minimal $0$ can be attained only when $c = \\mathbb{E}[X]$. This explains\n",
    "$$\n",
    "    \\mathbb{E}[X] = \\arg \\min_{c \\in \\mathbb{R}} \\mathbb{E}[(X - c)^2].\n",
    "$$\n",
    "#### (c) \n",
    "Observe that\n",
    "$$\n",
    "\\begin{align*}\n",
    "\\mathbb{E}[|X - c|] & = \\int_{0}^\\infty \\mathbb{P}(|X - c| > x) {\\rm d} x \\\\\n",
    " & = \\int_{0}^\\infty \\mathbb{P}(X > c + x) + \\mathbb{P}(X \\leq c - x) {\\rm d} x \\\\\n",
    " & = \\int_c^{\\infty} \\mathbb{P}(X > x) {\\rm d} x +  \\int_{-\\infty}^{c} \\mathbb{P}(X < x) {\\rm d} x.\n",
    "\\end{align*}\n",
    "$$\n",
    "To get a minimizer of the last line, we take partial derivative with respect to $c$ on both sides of the equation. This is valid due to the dominated convergence theorem and the absolute integrability of density functions. (It's a corollary, see, for example, Folland 2.27). After taking the derivative, we get\n",
    "$$\n",
    "\\begin{align*}\n",
    "\\frac{\\partial}{\\partial c}\\mathbb{E}[|X - c|] & = -\\mathbb{P}(X > c) + \\mathbb{P}(X \\leq c).\n",
    "\\end{align*}\n",
    "$$\n",
    "To get an extremal, we have to require $\\mathbb{P}(X > c) = \\mathbb{P}(X \\leq c) = 1/2$. And we can verify that it is indeed a local minimum.  This requirement $\\mathbb{P}(X > c) = \\mathbb{P}(X \\leq c) = 1/2$ indicates that the minizer is the median.\n",
    "\n",
    "#### (d)\n",
    "\n",
    "For a discerte random vriable $X$."
   ]
  },
  {
   "cell_type": "code",
   "execution_count": null,
   "metadata": {},
   "outputs": [],
   "source": []
  }
 ],
 "metadata": {
  "kernelspec": {
   "display_name": "Python 3 (ipykernel)",
   "language": "python",
   "name": "python3"
  },
  "language_info": {
   "codemirror_mode": {
    "name": "ipython",
    "version": 3
   },
   "file_extension": ".py",
   "mimetype": "text/x-python",
   "name": "python",
   "nbconvert_exporter": "python",
   "pygments_lexer": "ipython3",
   "version": "3.9.18"
  }
 },
 "nbformat": 4,
 "nbformat_minor": 4
}
